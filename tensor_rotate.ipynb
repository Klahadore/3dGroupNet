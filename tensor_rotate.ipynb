{
 "cells": [
  {
   "cell_type": "code",
   "execution_count": 3,
   "metadata": {},
   "outputs": [
    {
     "name": "stdout",
     "output_type": "stream",
     "text": [
      "Original shape: torch.Size([2, 3, 4, 5, 6])\n",
      "New shape: torch.Size([2, 16, 3, 4, 5, 6])\n"
     ]
    }
   ],
   "source": [
    "import torch\n",
    "\n",
    "# Create a 5-dimensional tensor, e.g., shape (2, 3, 4, 5, 6)\n",
    "tensor = torch.randn(2, 3, 4, 5, 6)\n",
    "print(\"Original shape:\", tensor.shape)\n",
    "\n",
    "# Specify the position to add the new dimension\n",
    "position = 1\n",
    "new_channels = 16\n",
    "\n",
    "# Add the new dimension with the specified number of channels\n",
    "new_shape = list(tensor.shape)\n",
    "new_shape.insert(position, new_channels)\n",
    "\n",
    "# Expand the tensor to the new shape\n",
    "# Use unsqueeze and expand to achieve the desired shape\n",
    "expanded_tensor = tensor.unsqueeze(position).expand(*new_shape)\n",
    "print(\"New shape:\", expanded_tensor.shape)"
   ]
  },
  {
   "cell_type": "code",
   "execution_count": 1,
   "metadata": {},
   "outputs": [
    {
     "name": "stdout",
     "output_type": "stream",
     "text": [
      "Original shape: torch.Size([2, 16, 3, 4, 5, 6])\n",
      "Shape after summing channels: torch.Size([2, 3, 4, 5, 6])\n"
     ]
    }
   ],
   "source": [
    "import torch\n",
    "\n",
    "# Example tensor with shape (2, 16, 3, 4, 5, 6)\n",
    "tensor = torch.randn(2, 16, 3, 4, 5, 6)\n",
    "print(\"Original shape:\", tensor.shape)\n",
    "\n",
    "# Sum along the channel dimension (index 1)\n",
    "summed_tensor = tensor.sum(dim=1)\n",
    "print(\"Shape after summing channels:\", summed_tensor.shape)"
   ]
  },
  {
   "cell_type": "code",
   "execution_count": null,
   "metadata": {},
   "outputs": [],
   "source": []
  }
 ],
 "metadata": {
  "kernelspec": {
   "display_name": "image",
   "language": "python",
   "name": "python3"
  },
  "language_info": {
   "codemirror_mode": {
    "name": "ipython",
    "version": 3
   },
   "file_extension": ".py",
   "mimetype": "text/x-python",
   "name": "python",
   "nbconvert_exporter": "python",
   "pygments_lexer": "ipython3",
   "version": "3.12.4"
  }
 },
 "nbformat": 4,
 "nbformat_minor": 2
}
