{
 "cells": [
  {
   "cell_type": "code",
   "execution_count": 15,
   "metadata": {},
   "outputs": [
    {
     "name": "stderr",
     "output_type": "stream",
     "text": [
      "/home/preston/miniconda3/envs/images/lib/python3.12/site-packages/torch/nn/functional.py:4373: UserWarning: Default grid_sample and affine_grid behavior has changed to align_corners=False since 1.3.0. Please specify align_corners=True if the old behavior is desired. See the documentation of grid_sample for details.\n",
      "  warnings.warn(\n"
     ]
    },
    {
     "name": "stdout",
     "output_type": "stream",
     "text": [
      "torch.Size([1, 16, 4, 128, 128, 128])\n",
      "tensor([[[-0.6544, -0.3237,  0.6834],\n",
      "         [-0.7560,  0.3025, -0.5805],\n",
      "         [-0.0188, -0.8965, -0.4427]],\n",
      "\n",
      "        [[-0.5162, -0.1192, -0.8481],\n",
      "         [-0.4942, -0.7673,  0.4087],\n",
      "         [-0.6994,  0.6302,  0.3372]],\n",
      "\n",
      "        [[ 0.3734,  0.0417,  0.9267],\n",
      "         [ 0.9174,  0.1312, -0.3756],\n",
      "         [-0.1372,  0.9905,  0.0107]],\n",
      "\n",
      "        [[ 0.5813,  0.1998, -0.7888],\n",
      "         [ 0.3588,  0.8072,  0.4687],\n",
      "         [ 0.7303, -0.5555,  0.3975]]])\n",
      "tensor([[[-0.0598, -0.6186, -0.7835],\n",
      "         [-0.1021,  0.7845, -0.6116],\n",
      "         [ 0.9930,  0.0433, -0.1101]],\n",
      "\n",
      "        [[-0.6331,  0.3639,  0.6832],\n",
      "         [ 0.2827, -0.7130,  0.6417],\n",
      "         [ 0.7206,  0.5994,  0.3485]],\n",
      "\n",
      "        [[ 0.0527,  0.9226, -0.3822],\n",
      "         [ 0.4474, -0.3640, -0.8169],\n",
      "         [-0.8927, -0.1279, -0.4320]],\n",
      "\n",
      "        [[ 0.5993, -0.3079,  0.7389],\n",
      "         [-0.4261,  0.6588,  0.6200],\n",
      "         [-0.6777, -0.6865,  0.2637]]])\n"
     ]
    }
   ],
   "source": [
    "import torch\n",
    "from gconv.gnn import GSeparableConvSE3, GLiftingConvSE3\n",
    "\n",
    "x = torch.randn(1, 3, 128,128,128)\n",
    "lift = GLiftingConvSE3(3,16,3, padding='same')\n",
    "layer = GSeparableConvSE3(16,16,3, padding='same')\n",
    "layer2 = GSeparableConvSE3(16,16,3, padding='same')\n",
    "x, H1 = lift(x)\n",
    "x, H2 = layer(x, H1)\n",
    "print(x.shape)\n",
    "x, H3 = layer2(x, H2, out_H=H1)\n",
    "print(H3)\n",
    "print(H1)\n"
   ]
  },
  {
   "cell_type": "code",
   "execution_count": null,
   "metadata": {},
   "outputs": [],
   "source": []
  }
 ],
 "metadata": {
  "kernelspec": {
   "display_name": "images",
   "language": "python",
   "name": "python3"
  },
  "language_info": {
   "codemirror_mode": {
    "name": "ipython",
    "version": 3
   },
   "file_extension": ".py",
   "mimetype": "text/x-python",
   "name": "python",
   "nbconvert_exporter": "python",
   "pygments_lexer": "ipython3",
   "version": "3.12.4"
  }
 },
 "nbformat": 4,
 "nbformat_minor": 2
}
