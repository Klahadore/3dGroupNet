{
 "cells": [
  {
   "cell_type": "code",
   "execution_count": 2,
   "metadata": {},
   "outputs": [],
   "source": [
    "import torch\n",
    "from einops import rearrange, repeat"
   ]
  },
  {
   "cell_type": "code",
   "execution_count": 5,
   "metadata": {},
   "outputs": [
    {
     "data": {
      "text/plain": [
       "torch.Size([16, 8, 12, 3, 3, 3])"
      ]
     },
     "execution_count": 5,
     "metadata": {},
     "output_type": "execute_result"
    }
   ],
   "source": [
    "kernel = torch.zeros(16, 8, 3, 3, 3)\n",
    "kernel = repeat(kernel, \"o i h w d -> o i g h w d\", g=12)\n",
    "kernel.shape"
   ]
  },
  {
   "cell_type": "code",
   "execution_count": 6,
   "metadata": {},
   "outputs": [],
   "source": [
    "def rot(kernel, n):\n",
    "    kernel = torch.rot90(kernel, n, (1.2))\n",
    "    return kernel\n",
    "\n",
    "def rot_diagonal(k, n):\n",
    "    for i in range(n):\n",
    "        k = rearrange(kernel, \"h w d -> d h w\")\n",
    "    return k\n",
    "\n",
    "for i in range(12):\n",
    "    kernel[:,:,i,:,:] = rot_diagonal(rot())\n",
    "    "
   ]
  },
  {
   "cell_type": "markdown",
   "metadata": {},
   "source": []
  },
  {
   "cell_type": "code",
   "execution_count": 10,
   "metadata": {},
   "outputs": [
    {
     "data": {
      "text/plain": [
       "torch.Size([5, 3, 4])"
      ]
     },
     "execution_count": 10,
     "metadata": {},
     "output_type": "execute_result"
    }
   ],
   "source": [
    "x = torch.zeros(3,4,5)\n",
    "x = rearrange(x, \"h w d -> d h w\")\n",
    "x.shape"
   ]
  },
  {
   "cell_type": "code",
   "execution_count": 14,
   "metadata": {},
   "outputs": [
    {
     "name": "stdout",
     "output_type": "stream",
     "text": [
      "torch.Size([16, 8, 3, 3, 3])\n"
     ]
    }
   ],
   "source": [
    "k = torch.zeros(16,8,12,3,3,3)\n",
    "print(k[:,:,4,:,:,:].shape)"
   ]
  },
  {
   "cell_type": "code",
   "execution_count": 17,
   "metadata": {},
   "outputs": [
    {
     "name": "stdout",
     "output_type": "stream",
     "text": [
      "16\n",
      "torch.Size([4, 8, 3, 3, 3])\n"
     ]
    },
    {
     "data": {
      "text/plain": [
       "torch.Size([4, 8, 16, 3, 3, 3])"
      ]
     },
     "execution_count": 17,
     "metadata": {},
     "output_type": "execute_result"
    }
   ],
   "source": [
    "def create_rotated_kernels(kernel):\n",
    "    rotations = []\n",
    "\n",
    "    for rot_x in range(4):\n",
    "        for rot_y in range(4):\n",
    "            # for rot_z in range(4):\n",
    "            rotated_kernel = torch.rot90(kernel, rot_x, [3,2])\n",
    "            rotated_kernel = torch.rot90(rotated_kernel, rot_y, [4,2])\n",
    "                # rotated_kernel = torch.rot90(rotated_kernel, rot_z, [4,3])\n",
    "            rotations.append(rotated_kernel)\n",
    "    print(len(rotations))\n",
    "    print(rotations[1].shape)\n",
    "    return torch.stack(rotations, dim=2)\n",
    "k = torch.ones(4,8,3,3,3)\n",
    "create_rotated_kernels(k).shape"
   ]
  },
  {
   "cell_type": "code",
   "execution_count": 4,
   "metadata": {},
   "outputs": [
    {
     "name": "stdout",
     "output_type": "stream",
     "text": [
      "torch.Size([4, 8, 3, 3, 3])\n",
      "torch.Size([4, 8, 3, 3, 3])\n",
      "torch.Size([4, 8, 3, 3, 3])\n",
      "torch.Size([4, 8, 3, 3, 3])\n",
      "torch.Size([4, 8, 3, 3, 3])\n",
      "torch.Size([4, 8, 3, 3, 3])\n",
      "torch.Size([4, 8, 3, 3, 3])\n",
      "torch.Size([4, 8, 3, 3, 3])\n",
      "torch.Size([4, 8, 3, 3, 3])\n",
      "torch.Size([4, 8, 3, 3, 3])\n",
      "torch.Size([4, 8, 3, 3, 3])\n",
      "torch.Size([4, 8, 3, 3, 3])\n",
      "torch.Size([4, 8, 12, 3, 3, 3])\n"
     ]
    }
   ],
   "source": [
    "from einops import rearrange\n",
    "import torch\n",
    "\n",
    "orientations = [\n",
    "    (0,0),\n",
    "    (1,0),\n",
    "    (2,0),\n",
    "    (3,0),\n",
    "    (0,1),\n",
    "    (0,2),\n",
    "    (1,1),\n",
    "    (1,2),\n",
    "    (2,1),\n",
    "    (2,2),\n",
    "    (3,1),\n",
    "    (3,2),\n",
    "\n",
    "]\n",
    "def rot_diagonal(k, n):\n",
    "    print(k.shape)\n",
    "    for i in range(n):\n",
    "        k = rearrange(k, \"o i h w d -> o i d h w\")\n",
    "    return k\n",
    "\n",
    "def create_rotated_kernels(kernel):\n",
    "    rotations = []\n",
    "    for n,m in orientations:\n",
    "        t_kernel = torch.rot90(kernel, n, (2,3))\n",
    "        t_kernel = rot_diagonal(t_kernel, m)\n",
    "        rotations.append(t_kernel)\n",
    "        # print(t_kernel.shape)\n",
    "    return torch.stack(rotations, dim=2)\n",
    "\n",
    "k = torch.ones(4,8,3,3,3)\n",
    "t = create_rotated_kernels(k)\n",
    "\n",
    "print(t.shape)"
   ]
  },
  {
   "cell_type": "code",
   "execution_count": null,
   "metadata": {},
   "outputs": [],
   "source": []
  }
 ],
 "metadata": {
  "kernelspec": {
   "display_name": "images",
   "language": "python",
   "name": "python3"
  },
  "language_info": {
   "codemirror_mode": {
    "name": "ipython",
    "version": 3
   },
   "file_extension": ".py",
   "mimetype": "text/x-python",
   "name": "python",
   "nbconvert_exporter": "python",
   "pygments_lexer": "ipython3",
   "version": "3.12.4"
  }
 },
 "nbformat": 4,
 "nbformat_minor": 2
}
